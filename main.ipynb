{
 "cells": [
  {
   "cell_type": "code",
   "execution_count": 2,
   "metadata": {
    "collapsed": true
   },
   "outputs": [
    {
     "name": "stdout",
     "output_type": "stream",
     "text": [
      "patient_id               0\n",
      "sex                     94\n",
      "birth_year             464\n",
      "age                    105\n",
      "province                 0\n",
      "city                    76\n",
      "infection_case           0\n",
      "infected_by           2393\n",
      "contact_number        2539\n",
      "symptom_onset_date    2682\n",
      "confirmed_date           0\n",
      "released_date         2147\n",
      "deceased_date         3072\n",
      "state                    0\n",
      "group                    0\n",
      "dtype: int64\n"
     ]
    }
   ],
   "source": [
    "import preproc as pp\n",
    "\n",
    "\n",
    "class COVID(object):\n",
    "    def __init__(self):\n",
    "        self.DATA_PATH = \"../coronavirusdataset/\"\n",
    "        self.patient_route = pp.patient_route(self.DATA_PATH)\n",
    "        self.case, self.group_map = pp.case(self.DATA_PATH)\n",
    "        self.patient_info = pp.patient_info(self.DATA_PATH)\n",
    "        self.fill_missing()\n",
    "\n",
    "    def fill_missing(self):\n",
    "        # patient_info:\n",
    "        # fill missing value: infection_case\n",
    "        self.patient_info[\"infection_case\"] = self.patient_info[\"infection_case\"].fillna(\"etc\")\n",
    "        print(self.patient_info.isnull().sum())\n",
    "\n",
    "\n",
    "def main():\n",
    "    covid_model = COVID()\n",
    "\n",
    "\n",
    "if __name__ == '__main__':\n",
    "    main()\n",
    "\n"
   ]
  }
 ],
 "metadata": {
  "kernelspec": {
   "display_name": "Python 3",
   "language": "python",
   "name": "python3"
  },
  "language_info": {
   "codemirror_mode": {
    "name": "ipython",
    "version": 2
   },
   "file_extension": ".py",
   "mimetype": "text/x-python",
   "name": "python",
   "nbconvert_exporter": "python",
   "pygments_lexer": "ipython2",
   "version": "2.7.6"
  }
 },
 "nbformat": 4,
 "nbformat_minor": 0
}