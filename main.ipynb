{
 "cells": [
  {
   "cell_type": "code",
   "execution_count": 631,
   "metadata": {},
   "outputs": [],
   "source": [
    "%reload_ext autoreload\n",
    "%autoreload 2\n",
    "import random\n",
    "import pandas as pd\n",
    "import numpy as np\n",
    "import matplotlib.pyplot as plt\n",
    "\n",
    "import preproc as pp\n",
    "\n",
    "\n",
    "class COVID(object):\n",
    "    def __init__(self):\n",
    "        self.DATA_PATH = \"C:/Users/hp/Desktop/coviddata/\"\n",
    "        self.patient_route = pp.patient_route(self.DATA_PATH)\n",
    "        self.case, self.group_map = pp.case(self.DATA_PATH)\n",
    "        self.patient_info = pp.patient_info(self.DATA_PATH)\n",
    "        self.patient_num = self.patient_info.shape[0]\n",
    "        self.time = pp.time(self.DATA_PATH)\n",
    "        self.pre_proc()\n",
    "\n",
    "    def pre_proc(self):\n",
    "        # >>> patient_info:\n",
    "        # fill missing value: infection_case, use etc\n",
    "        self.patient_info[\"infection_case\"].fillna(\"etc\", inplace=True)\n",
    "        # fill missing value: contact_number, use 0\n",
    "        self.patient_info[\"contact_number\"].fillna(0, inplace=True)\n",
    "        # fill missing value: infected_by, use -1\n",
    "        self.patient_info[\"infected_by\"].fillna(-1, inplace=True)\n",
    "        # fill missing value: sex, use ratio of all, generate a shuffle list then fill in the blank\n",
    "        sex_count = dict(self.patient_info[\"sex\"].value_counts())\n",
    "        sex_num = sex_count[\"female\"] + sex_count[\"male\"]\n",
    "        un_sex_male = int((self.patient_num - sex_num) * sex_count[\"male\"] / sex_num)\n",
    "        un_sex_female = int((self.patient_num - sex_num) - un_sex_male)\n",
    "        fill_sex_list = [\"male\" for _ in range(0, un_sex_male)] + [\"female\" for _ in range(0, un_sex_female)]\n",
    "        random.shuffle(fill_sex_list)\n",
    "        self.patient_info.loc[self.patient_info[\"sex\"].isnull(), \"sex\"] = fill_sex_list\n",
    "        # fill missing value: age, use mean of province\n",
    "        # # 1. fill bo\n",
    "        all_age = self.patient_info.birth_year.mean()\n",
    "        province_age = self.patient_info.groupby('province').birth_year.mean()\n",
    "        province_age.loc[province_age.isnull()] = all_age\n",
    "        fill_birth_list_idx = self.patient_info.loc[self.patient_info[\"birth_year\"].isnull(), \"birth_year\"].index\n",
    "        fill_birth_list = list(province_age[self.patient_info.loc[fill_birth_list_idx, \"province\"]])\n",
    "        self.patient_info.loc[self.patient_info[\"birth_year\"].isnull(), \"birth_year\"] = fill_birth_list\n",
    "        # # 2. fill age\n",
    "        fill_age_list_idx = self.patient_info.loc[self.patient_info[\"age\"].isnull(), \"age\"].index\n",
    "        cal_year_list = np.array(list(self.patient_info.loc[fill_age_list_idx, \"birth_year\"]))\n",
    "        cal_year_list = (2020 - cal_year_list) / 10\n",
    "        cal_year_list = cal_year_list.astype(int) * 10\n",
    "        cal_year_list = [str(cal_year_list[i]) + 's' for i in range(cal_year_list.shape[0])]\n",
    "        self.patient_info.loc[self.patient_info[\"age\"].isnull(), \"age\"] = cal_year_list\n",
    "        # drop country\n",
    "        self.patient_info.drop(columns=[\"country\"], inplace=True)\n",
    "        # fill missing value: city\n",
    "        self.patient_info.loc[self.patient_info[\"city\"] == \"etc\", \"city\"] = None\n",
    "        self.patient_route[\"most_city\"] = self.patient_route.groupby('patient_id').city.transform(\n",
    "            lambda x: x.value_counts().index[0])\n",
    "        fill_city_list_idx = self.patient_info.loc[self.patient_info[\"city\"].isnull(), \"city\"].index\n",
    "        route_most_city = self.patient_route.groupby('patient_id').most_city.max()\n",
    "        fill_city_list_pid = self.patient_info.loc[fill_city_list_idx, \"patient_id\"]\n",
    "        for idx, pid in fill_city_list_pid.iteritems():\n",
    "            if pid in route_most_city.index:\n",
    "                self.patient_info.loc[idx, \"city\"] = route_most_city[pid]\n",
    "        self.patient_info[\"tmp\"] = self.patient_info.groupby('province').city.transform(\n",
    "            lambda x: x.value_counts().index[0])\n",
    "        fill_city_list_idx = self.patient_info.loc[self.patient_info[\"city\"].isnull(), \"city\"].index\n",
    "        prov_most_city = self.patient_info.groupby('province').tmp.max()\n",
    "        fill_city_list_pid = self.patient_info.loc[fill_city_list_idx, \"patient_id\"]\n",
    "        for idx, pid in fill_city_list_pid.iteritems():\n",
    "            # print(self.patient_info.loc[idx, \"province\"])\n",
    "            self.patient_info.loc[idx, \"city\"] = prov_most_city[self.patient_info.loc[idx, \"province\"]]\n",
    "        # fill last city and province\n",
    "        ttp = self.patient_route.groupby(\"patient_id\").last().reset_index()\n",
    "        last_index = self.patient_info.loc[self.patient_info[\"patient_id\"].isin(ttp[\"patient_id\"])].index\n",
    "        last_index = np.array(last_index)\n",
    "        for idx in range(len(last_index)):\n",
    "            self.patient_info.loc[self.patient_info.patient_id == ttp.loc[idx, \"patient_id\"], \"last_city\"] = ttp.loc[idx, \"city\"]\n",
    "            self.patient_info.loc[self.patient_info.patient_id == ttp.loc[idx, \"patient_id\"], \"last_province\"] = ttp.loc[idx, \"province\"]\n",
    "        null_last_idx = self.patient_info.loc[self.patient_info[\"last_city\"].isnull()].index\n",
    "        self.patient_info.loc[null_last_idx, \"last_city\"] = self.patient_info.loc[null_last_idx, \"city\"]\n",
    "        self.patient_info.loc[null_last_idx, \"last_province\"] = self.patient_info.loc[null_last_idx, \"province\"]\n",
    "        # fill disease\n",
    "        self.patient_info[\"disease_b\"] = 1\n",
    "        self.patient_info.loc[self.patient_info[\"disease\"].isnull(), \"disease_b\"] = 0\n",
    "        self.patient_info[\"disease_b\"].value_counts()\n",
    "        # date formatting\n",
    "        self.patient_info.loc[776, \"symptom_onset_date\"] = None\n",
    "        self.patient_info[\"confirmed_date\"] = pd.to_datetime(self.patient_info.confirmed_date)\n",
    "        self.patient_info[\"symptom_onset_date\"] = pd.to_datetime(self.patient_info.symptom_onset_date)\n",
    "        self.patient_info[\"released_date\"] = pd.to_datetime(self.patient_info.released_date)\n",
    "        self.patient_info[\"deceased_date\"] = pd.to_datetime(self.patient_info.deceased_date)\n",
    "        self.time[\"date\"] = pd.to_datetime(self.time.date)\n",
    "\n",
    "        # >>> patient_route:\n",
    "        self.patient_route[\"date\"] = pd.to_datetime(self.patient_route.date)\n",
    "        self.patient_info[\"start_date\"] = pd.NaT\n",
    "        for i, row in self.patient_info.iterrows():\n",
    "            pid = row[\"patient_id\"]\n",
    "            dating = self.patient_route[self.patient_route[\"patient_id\"] == pid]\n",
    "            self.patient_info.loc[self.patient_info[\"patient_id\"] == pid, \"group\"] = self.group_map[row[\"infection_case\"]]\n",
    "            if row[\"symptom_onset_date\"] is not pd.NaT:\n",
    "                if dating.shape[0] == 0:\n",
    "                    self.patient_info.loc[i, \"start_date\"] = row[\"symptom_onset_date\"]\n",
    "                    continue\n",
    "                dating_b = dating[dating[\"date\"] <= row[\"symptom_onset_date\"]]\n",
    "                if dating_b.shape[0] == 0:\n",
    "                    self.patient_info.loc[i, \"start_date\"] = row[\"symptom_onset_date\"]\n",
    "                    continue\n",
    "                self.patient_info.loc[i, \"start_date\"] = dating_b.tail(1).reset_index().at[0, \"date\"]\n",
    "            else:\n",
    "                if dating.shape[0] == 0:\n",
    "                    self.patient_info.loc[i, \"start_date\"] = row[\"confirmed_date\"]\n",
    "                    continue\n",
    "                dating_b = dating[dating[\"date\"] <= row[\"confirmed_date\"]]\n",
    "                if dating_b.shape[0] == 0:\n",
    "                    self.patient_info.loc[i, \"start_date\"] = row[\"confirmed_date\"]\n",
    "                    continue\n",
    "                self.patient_info.loc[i, \"start_date\"] = dating_b.tail(1).reset_index().at[0, \"date\"]\n",
    "        print(self.patient_info.isnull().sum())\n",
    "        # fill missing value: sym date\n",
    "        # self.patient_info.to_excel(\"./tmp/patient_info.xlsx\")\n"
   ]
  },
  {
   "cell_type": "code",
   "execution_count": 632,
   "metadata": {
    "collapsed": true
   },
   "outputs": [
    {
     "name": "stdout",
     "output_type": "stream",
     "text": [
      "patient_id               0\n",
      "sex                      0\n",
      "birth_year               0\n",
      "age                      0\n",
      "province                 0\n",
      "city                     0\n",
      "infection_case           0\n",
      "infected_by              0\n",
      "contact_number           0\n",
      "disease               3110\n",
      "symptom_onset_date    2683\n",
      "confirmed_date           0\n",
      "released_date         2147\n",
      "deceased_date         3072\n",
      "state                    0\n",
      "group                    0\n",
      "tmp                      0\n",
      "last_city                0\n",
      "last_province            0\n",
      "disease_b                0\n",
      "start_date               0\n",
      "dtype: int64\n"
     ]
    }
   ],
   "source": [
    "covid=COVID()"
   ]
  },
  {
   "cell_type": "code",
   "execution_count": 633,
   "metadata": {},
   "outputs": [],
   "source": [
    "info=covid.patient_info\n",
    "time=covid.time"
   ]
  },
  {
   "cell_type": "markdown",
   "metadata": {},
   "source": [
    "我们将年龄段age转化为数值型变量，例如'50s'变为50，以便进行接下来的分析。"
   ]
  },
  {
   "cell_type": "code",
   "execution_count": 634,
   "metadata": {
    "scrolled": true
   },
   "outputs": [
    {
     "name": "stderr",
     "output_type": "stream",
     "text": [
      "E:\\anacode\\lib\\site-packages\\ipykernel_launcher.py:2: SettingWithCopyWarning: \n",
      "A value is trying to be set on a copy of a slice from a DataFrame\n",
      "\n",
      "See the caveats in the documentation: http://pandas.pydata.org/pandas-docs/stable/user_guide/indexing.html#returning-a-view-versus-a-copy\n",
      "  \n"
     ]
    }
   ],
   "source": [
    "for i in range(len(info[\"age\"])):\n",
    "    info[\"age\"][i]=int(info[\"age\"][i].strip(\"s\"))"
   ]
  },
  {
   "cell_type": "code",
   "execution_count": 323,
   "metadata": {
    "collapsed": true
   },
   "outputs": [
    {
     "name": "stderr",
     "output_type": "stream",
     "text": [
      "E:\\anacode\\lib\\site-packages\\ipykernel_launcher.py:2: SettingWithCopyWarning: \n",
      "A value is trying to be set on a copy of a slice from a DataFrame\n",
      "\n",
      "See the caveats in the documentation: http://pandas.pydata.org/pandas-docs/stable/user_guide/indexing.html#returning-a-view-versus-a-copy\n",
      "  \n",
      "E:\\anacode\\lib\\site-packages\\ipykernel_launcher.py:3: SettingWithCopyWarning: \n",
      "A value is trying to be set on a copy of a slice from a DataFrame\n",
      "\n",
      "See the caveats in the documentation: http://pandas.pydata.org/pandas-docs/stable/user_guide/indexing.html#returning-a-view-versus-a-copy\n",
      "  This is separate from the ipykernel package so we can avoid doing imports until\n",
      "E:\\anacode\\lib\\site-packages\\ipykernel_launcher.py:4: SettingWithCopyWarning: \n",
      "A value is trying to be set on a copy of a slice from a DataFrame\n",
      "\n",
      "See the caveats in the documentation: http://pandas.pydata.org/pandas-docs/stable/user_guide/indexing.html#returning-a-view-versus-a-copy\n",
      "  after removing the cwd from sys.path.\n",
      "E:\\anacode\\lib\\site-packages\\ipykernel_launcher.py:5: SettingWithCopyWarning: \n",
      "A value is trying to be set on a copy of a slice from a DataFrame\n",
      "\n",
      "See the caveats in the documentation: http://pandas.pydata.org/pandas-docs/stable/user_guide/indexing.html#returning-a-view-versus-a-copy\n",
      "  \"\"\"\n",
      "E:\\anacode\\lib\\site-packages\\ipykernel_launcher.py:6: SettingWithCopyWarning: \n",
      "A value is trying to be set on a copy of a slice from a DataFrame\n",
      "\n",
      "See the caveats in the documentation: http://pandas.pydata.org/pandas-docs/stable/user_guide/indexing.html#returning-a-view-versus-a-copy\n",
      "  \n",
      "E:\\anacode\\lib\\site-packages\\ipykernel_launcher.py:7: SettingWithCopyWarning: \n",
      "A value is trying to be set on a copy of a slice from a DataFrame\n",
      "\n",
      "See the caveats in the documentation: http://pandas.pydata.org/pandas-docs/stable/user_guide/indexing.html#returning-a-view-versus-a-copy\n",
      "  import sys\n",
      "E:\\anacode\\lib\\site-packages\\ipykernel_launcher.py:8: SettingWithCopyWarning: \n",
      "A value is trying to be set on a copy of a slice from a DataFrame\n",
      "\n",
      "See the caveats in the documentation: http://pandas.pydata.org/pandas-docs/stable/user_guide/indexing.html#returning-a-view-versus-a-copy\n",
      "  \n",
      "E:\\anacode\\lib\\site-packages\\ipykernel_launcher.py:9: SettingWithCopyWarning: \n",
      "A value is trying to be set on a copy of a slice from a DataFrame\n",
      "\n",
      "See the caveats in the documentation: http://pandas.pydata.org/pandas-docs/stable/user_guide/indexing.html#returning-a-view-versus-a-copy\n",
      "  if __name__ == '__main__':\n"
     ]
    }
   ],
   "source": [
    "##### 查漏补缺\n",
    "info[\"city\"][37]=\"Songpa-gu\"\n",
    "info[\"city\"][106]=\"Geumcheon-gu\"\n",
    "info[\"city\"][269]=\"Gangnam-gu\"\n",
    "info[\"city\"][385]=\"Guro-gu\"\n",
    "info[\"province\"][562]=\"Chungcheongnam-do\"\n",
    "info[\"city\"][771]=\"Seo-gu\"\n",
    "info[\"city\"][1812]=\"Mokpo-si\"\n",
    "info[\"last_province\"][562]=\"Chungcheongnam-do\""
   ]
  },
  {
   "cell_type": "markdown",
   "metadata": {},
   "source": [
    "此处将\"sex\"变量转化为0，1型变量，其中male为1，将group（群体感染）转变为0，1型变量，1代表群体感染。"
   ]
  },
  {
   "cell_type": "code",
   "execution_count": 635,
   "metadata": {},
   "outputs": [],
   "source": [
    "new_sex=pd.get_dummies(info[\"sex\"])\n",
    "info[\"sex\"]=new_sex[\"male\"]#### male 为1\n",
    "a = np.array(info[\"group\"])\n",
    "group=a.astype(int)\n",
    "info[\"group\"]=group#### group 为1\n",
    "\n",
    "####disease_b 0  无病"
   ]
  },
  {
   "cell_type": "code",
   "execution_count": 636,
   "metadata": {},
   "outputs": [],
   "source": [
    "timeage=pd.read_csv(\"C:/Users/hp/Desktop/coviddata/TimeAge.csv\")\n",
    "timegender=pd.read_csv(\"C:/Users/hp/Desktop/coviddata/TimeGender.csv\")\n",
    "timeprovince=pd.read_csv(\"C:/Users/hp/Desktop/coviddata/TimeProvince.csv\")\n",
    "region=pd.read_csv(\"C:/Users/hp/Desktop/coviddata/Region.csv\")"
   ]
  },
  {
   "cell_type": "code",
   "execution_count": 653,
   "metadata": {},
   "outputs": [],
   "source": [
    "import numpy as np \n",
    "import matplotlib as mpl \n",
    "import matplotlib.pyplot as plt \n",
    "import seaborn as sns\n",
    "\n",
    "#### plot of deceased\n",
    "deceased=info[info[\"state\"]==\"deceased\"]"
   ]
  },
  {
   "cell_type": "markdown",
   "metadata": {},
   "source": [
    "从图中我们可以看到，死亡者中感染状况为非群体感染的人数较远多于其他情况。"
   ]
  },
  {
   "cell_type": "code",
   "execution_count": 655,
   "metadata": {},
   "outputs": [
    {
     "data": {
      "image/png": "[encoded data removed]",
      "text/plain": [
       "<Figure size 432x288 with 1 Axes>"
      ]
     },
     "metadata": {
      "needs_background": "light"
     },
     "output_type": "display_data"
    }
   ],
   "source": [
    "deceased_case=sns.countplot(x=\"infection_case\", data=deceased)\n",
    "plt.gcf().autofmt_xdate() "
   ]
  },
  {
   "cell_type": "markdown",
   "metadata": {},
   "source": [
    "男性的死亡人数多于女性。"
   ]
  },
  {
   "cell_type": "code",
   "execution_count": 656,
   "metadata": {},
   "outputs": [
    {
     "data": {
      "image/png": "[encoded data removed]",
      "text/plain": [
       "<Figure size 432x288 with 1 Axes>"
      ]
     },
     "metadata": {
      "needs_background": "light"
     },
     "output_type": "display_data"
    }
   ],
   "source": [
    "deceased_sex=sns.countplot(x=\"sex\", data=deceased)\n",
    "plt.gcf().autofmt_xdate() "
   ]
  },
  {
   "cell_type": "markdown",
   "metadata": {},
   "source": [
    "死亡的病人中，最多的是来自Gyeongsangbuk-do和Daegu这两个地方"
   ]
  },
  {
   "cell_type": "code",
   "execution_count": 657,
   "metadata": {},
   "outputs": [
    {
     "data": {
      "image/png": "[encoded data removed]",
      "text/plain": [
       "<Figure size 432x288 with 1 Axes>"
      ]
     },
     "metadata": {
      "needs_background": "light"
     },
     "output_type": "display_data"
    }
   ],
   "source": [
    "deceased_province=sns.countplot(x=\"province\", data=deceased)\n",
    "plt.gcf().autofmt_xdate()"
   ]
  },
  {
   "cell_type": "markdown",
   "metadata": {},
   "source": [
    "我们可以看出，死亡的病人多为60，70，80代，因此我们可以粗略看出，此病毒对于免疫力低下的老龄人口具有较大的威胁性。"
   ]
  },
  {
   "cell_type": "code",
   "execution_count": 658,
   "metadata": {},
   "outputs": [
    {
     "data": {
      "image/png": "[encoded data removed]",
      "text/plain": [
       "<Figure size 432x288 with 1 Axes>"
      ]
     },
     "metadata": {
      "needs_background": "light"
     },
     "output_type": "display_data"
    }
   ],
   "source": [
    "deceased_age=sns.countplot(x=\"age\", data=deceased)\n",
    "plt.gcf().autofmt_xdate() "
   ]
  },
  {
   "cell_type": "markdown",
   "metadata": {},
   "source": [
    "根据累计死亡人数和累计确诊人数的时间序列图，我们可以看出韩国感染人数从2月下旬开始呈现爆发性的增长，到3月中旬增长速度较为缓和，而死亡人数增速一直呈现上升趋势。"
   ]
  },
  {
   "cell_type": "code",
   "execution_count": 638,
   "metadata": {},
   "outputs": [
    {
     "data": {
      "text/plain": [
       "Text(0.5, 1, 'Deceased Number')"
      ]
     },
     "execution_count": 638,
     "metadata": {},
     "output_type": "execute_result"
    },
    {
     "data": {
      "text/plain": [
       "<Figure size 432x288 with 0 Axes>"
      ]
     },
     "metadata": {},
     "output_type": "display_data"
    },
    {
     "data": {
      "image/png": "[encoded data removed]",
      "text/plain": [
       "<Figure size 360x360 with 1 Axes>"
      ]
     },
     "metadata": {
      "needs_background": "light"
     },
     "output_type": "display_data"
    },
    {
     "data": {
      "image/png": "[encoded data removed]",
      "text/plain": [
       "<Figure size 360x360 with 1 Axes>"
      ]
     },
     "metadata": {
      "needs_background": "light"
     },
     "output_type": "display_data"
    }
   ],
   "source": [
    "### plot of confirmed\n",
    "plt.figure()\n",
    "conf= sns.relplot(x=\"date\", y=\"confirmed\", kind=\"line\", linewidth=1.0, label=\"confirmed\",data=time) \n",
    "plt.gcf().autofmt_xdate() \n",
    "plt.title(\"Confirmed Number\")\n",
    "deceased= sns.relplot(x=\"date\", y=\"deceased\", kind=\"line\",color='red', linewidth=1.0, label='deceased',data=time)\n",
    "plt.gcf().autofmt_xdate()  \n",
    "plt.title(\"Deceased Number\")"
   ]
  },
  {
   "cell_type": "markdown",
   "metadata": {},
   "source": [
    "接下来，我们根据patientInfo中的病人籍贯地点对该地点教育水平进行合并，根据PatientRoute的中病人接受治疗的地点对该地点医疗负荷数据进行了合并。我们提取出了状态为released的病人数据，将出院时间和确诊时间进行相减粗略得到病人康复所需时间，并结合并性别、年龄、群体感染与否、学术水平以及医疗负荷水平进行了相关系数的计算。我们发现病人康复所需时间与其他变量之间的相关性非常弱，因此我们认为这些变量对于病人康复所需时间不具有明显的解释性。"
   ]
  },
  {
   "cell_type": "code",
   "execution_count": 659,
   "metadata": {
    "scrolled": true
   },
   "outputs": [],
   "source": [
    "from sklearn.model_selection import train_test_split \n",
    "from sklearn.linear_model import LinearRegression \n",
    "region[\"last_province\"]=region[\"province\"]\n",
    "region[\"last_city\"]=region[\"city\"]\n",
    "part1=region[[\"province\",\"city\",\"elementary_school_count\",\"kindergarten_count\",\"university_count\",\"academy_ratio\"]]\n",
    "part2=region[[\"last_province\",\"last_city\",\"elderly_population_ratio\",\"elderly_alone_ratio\",\"nursing_home_count\"]]\n",
    "info1=pd.merge(info,part1,on = [\"province\",\"city\"],how = \"left\")\n",
    "final_info=pd.merge(info1,part2,on = ['last_province','last_city'],how = 'left')"
   ]
  },
  {
   "cell_type": "code",
   "execution_count": null,
   "metadata": {},
   "outputs": [],
   "source": [
    "released=final_info[final_info[\"released_date\"].isnull()!=True]\n",
    "released=released[released[\"state\"]==\"released\"]\n",
    "rctime=released[\"released_date\"]-released[\"confirmed_date\"]\n",
    "rctime=rctime.dt.days[0:len(rctime)]\n",
    "released[\"recoverytime\"]=rctime\n",
    "names=[\"sex\",\"age\",\"group\",\"elementary_school_count\",\"kindergarten_count\",\"university_count\",\"academy_ratio\",\\\n",
    "       \"elderly_population_ratio\",\"elderly_alone_ratio\",\"nursing_home_count\"]\n",
    "x=released[names]\n",
    "y=released[\"recoverytime\"]\n",
    "ddd=pd.concat([x,y],axis=1)\n",
    "ddd.corr() ### 可见recoverytime与其他变量之间的"
   ]
  },
  {
   "cell_type": "markdown",
   "metadata": {},
   "source": [
    "我们接下来对病人是否死亡或者出院进行了分类预测。主要利用性别、年龄、群体感染与否、学术水平以及医疗负荷水平等变量。首先，我们将数据随机分为测试集和训练集，测试集所占比例为0.3。在测试集和训练集中，死亡人数所占比例相差不大，约为0.05。"
   ]
  },
  {
   "cell_type": "code",
   "execution_count": 382,
   "metadata": {},
   "outputs": [],
   "source": [
    "dataclf=final_info[final_info[\"state\"]!=\"isolated\"]\n",
    "iso=final_info[final_info[\"state\"]==\"isolated\"]"
   ]
  },
  {
   "cell_type": "code",
   "execution_count": 411,
   "metadata": {},
   "outputs": [],
   "source": [
    "names=[\"sex\",\"age\",\"group\",\"disease_b\",\"elementary_school_count\",\"kindergarten_count\",\"university_count\",\"academy_ratio\",\n",
    "              \"elderly_population_ratio\",\"elderly_alone_ratio\" ,\"nursing_home_count\"]\n",
    "y = dataclf[\"state\"]\n",
    "x = dataclf[names]\n",
    "from sklearn.model_selection import train_test_split\n",
    "x_train, x_test,y_train, y_test = train_test_split(x, y, test_size=0.3, random_state=0)"
   ]
  },
  {
   "cell_type": "code",
   "execution_count": 405,
   "metadata": {},
   "outputs": [
    {
     "name": "stdout",
     "output_type": "stream",
     "text": [
      "released    0.952646\n",
      "deceased    0.047354\n",
      "Name: state, dtype: float64\n"
     ]
    }
   ],
   "source": [
    "print(y_test.value_counts()/len(y_test))"
   ]
  },
  {
   "cell_type": "code",
   "execution_count": 435,
   "metadata": {},
   "outputs": [
    {
     "name": "stdout",
     "output_type": "stream",
     "text": [
      "released    0.947305\n",
      "deceased    0.052695\n",
      "Name: state, dtype: float64\n"
     ]
    }
   ],
   "source": [
    "print(y_train.value_counts()/len(y_trian))"
   ]
  },
  {
   "cell_type": "markdown",
   "metadata": {},
   "source": [
    "我们首先考虑朴素贝叶斯模型。"
   ]
  },
  {
   "cell_type": "code",
   "execution_count": 661,
   "metadata": {},
   "outputs": [],
   "source": [
    "from sklearn.naive_bayes import MultinomialNB\n",
    "from sklearn import metrics\n",
    "classifier = MultinomialNB().fit(x_train,y_train)\n",
    "test_pred = classifier.predict(x_test)\n",
    "train_pred = classifier.predict(x_train)"
   ]
  },
  {
   "cell_type": "markdown",
   "metadata": {},
   "source": [
    "#### 模型性能评估"
   ]
  },
  {
   "cell_type": "code",
   "execution_count": 437,
   "metadata": {},
   "outputs": [
    {
     "data": {
      "text/plain": [
       "array([[ 17,   0],\n",
       "       [ 96, 246]], dtype=int64)"
      ]
     },
     "execution_count": 437,
     "metadata": {},
     "output_type": "execute_result"
    }
   ],
   "source": [
    "metrics.confusion_matrix(y_test, test_pred)"
   ]
  },
  {
   "cell_type": "code",
   "execution_count": 438,
   "metadata": {},
   "outputs": [
    {
     "name": "stdout",
     "output_type": "stream",
     "text": [
      "              precision    recall  f1-score   support\n",
      "\n",
      "    deceased       0.15      1.00      0.26        17\n",
      "    released       1.00      0.72      0.84       342\n",
      "\n",
      "    accuracy                           0.73       359\n",
      "   macro avg       0.58      0.86      0.55       359\n",
      "weighted avg       0.96      0.73      0.81       359\n",
      "\n"
     ]
    }
   ],
   "source": [
    "print(metrics.classification_report(y_test,test_pred))"
   ]
  },
  {
   "cell_type": "markdown",
   "metadata": {},
   "source": [
    "\n",
    "接下来我们考虑运用随机森林分类。"
   ]
  },
  {
   "cell_type": "markdown",
   "metadata": {},
   "source": [
    "### 随机森林"
   ]
  },
  {
   "cell_type": "code",
   "execution_count": 441,
   "metadata": {},
   "outputs": [],
   "source": [
    "from sklearn.ensemble import RandomForestClassifier\n",
    "from sklearn.metrics import f1_score as f1\n",
    "from sklearn.metrics import confusion_matrix as con"
   ]
  },
  {
   "cell_type": "code",
   "execution_count": 662,
   "metadata": {},
   "outputs": [
    {
     "name": "stdout",
     "output_type": "stream",
     "text": [
      "\n",
      "混淆矩阵：\n",
      "[[ 14   3]\n",
      " [  7 335]]\n",
      "\n",
      "Accuracy:\n",
      "0.9721448467966574\n"
     ]
    },
    {
     "name": "stderr",
     "output_type": "stream",
     "text": [
      "E:\\anacode\\lib\\site-packages\\sklearn\\ensemble\\forest.py:245: FutureWarning: The default value of n_estimators will change from 10 in version 0.20 to 100 in 0.22.\n",
      "  \"10 in version 0.20 to 100 in 0.22.\", FutureWarning)\n"
     ]
    }
   ],
   "source": [
    "rf = RandomForestClassifier(class_weight='balanced',random_state=1)\n",
    "###返回由训练集训练成的模型对验证集预测的结果\n",
    "test_pred = rf.fit(x_train,y_train).predict(x_test)\n",
    "###打印混淆矩阵\n",
    "print('\\n'+'混淆矩阵：')\n",
    "print(con(y_test,test_pred))\n",
    "###打印测试准确率\n",
    "print('\\n'+'Accuracy:')\n",
    "print(rf.score(x_test,y_test))"
   ]
  },
  {
   "cell_type": "code",
   "execution_count": 449,
   "metadata": {},
   "outputs": [
    {
     "name": "stdout",
     "output_type": "stream",
     "text": [
      "              precision    recall  f1-score   support\n",
      "\n",
      "    deceased       0.67      0.82      0.74        17\n",
      "    released       0.99      0.98      0.99       342\n",
      "\n",
      "    accuracy                           0.97       359\n",
      "   macro avg       0.83      0.90      0.86       359\n",
      "weighted avg       0.98      0.97      0.97       359\n",
      "\n"
     ]
    }
   ],
   "source": [
    "print(metrics.classification_report(y_test,test_pred))"
   ]
  },
  {
   "cell_type": "markdown",
   "metadata": {},
   "source": [
    "对比朴素贝叶斯，我们可以看到运用了随机森林的算法分类的效果更好。更多的实际出院病人被进行了正确的预测分类。"
   ]
  },
  {
   "cell_type": "code",
   "execution_count": 450,
   "metadata": {},
   "outputs": [
    {
     "data": {
      "text/html": [
       "<div>\n",
       "<style scoped>\n",
       "    .dataframe tbody tr th:only-of-type {\n",
       "        vertical-align: middle;\n",
       "    }\n",
       "\n",
       "    .dataframe tbody tr th {\n",
       "        vertical-align: top;\n",
       "    }\n",
       "\n",
       "    .dataframe thead th {\n",
       "        text-align: right;\n",
       "    }\n",
       "</style>\n",
       "<table border=\"1\" class=\"dataframe\">\n",
       "  <thead>\n",
       "    <tr style=\"text-align: right;\">\n",
       "      <th></th>\n",
       "      <th>importance</th>\n",
       "      <th>feature</th>\n",
       "    </tr>\n",
       "  </thead>\n",
       "  <tbody>\n",
       "    <tr>\n",
       "      <td>1</td>\n",
       "      <td>0.506830</td>\n",
       "      <td>age</td>\n",
       "    </tr>\n",
       "    <tr>\n",
       "      <td>4</td>\n",
       "      <td>0.111005</td>\n",
       "      <td>elementary_school_count</td>\n",
       "    </tr>\n",
       "    <tr>\n",
       "      <td>9</td>\n",
       "      <td>0.073635</td>\n",
       "      <td>elderly_alone_ratio</td>\n",
       "    </tr>\n",
       "    <tr>\n",
       "      <td>7</td>\n",
       "      <td>0.064065</td>\n",
       "      <td>academy_ratio</td>\n",
       "    </tr>\n",
       "    <tr>\n",
       "      <td>8</td>\n",
       "      <td>0.056523</td>\n",
       "      <td>elderly_population_ratio</td>\n",
       "    </tr>\n",
       "    <tr>\n",
       "      <td>5</td>\n",
       "      <td>0.055110</td>\n",
       "      <td>kindergarten_count</td>\n",
       "    </tr>\n",
       "    <tr>\n",
       "      <td>10</td>\n",
       "      <td>0.037076</td>\n",
       "      <td>nursing_home_count</td>\n",
       "    </tr>\n",
       "    <tr>\n",
       "      <td>0</td>\n",
       "      <td>0.035115</td>\n",
       "      <td>sex</td>\n",
       "    </tr>\n",
       "    <tr>\n",
       "      <td>6</td>\n",
       "      <td>0.032094</td>\n",
       "      <td>university_count</td>\n",
       "    </tr>\n",
       "    <tr>\n",
       "      <td>2</td>\n",
       "      <td>0.016091</td>\n",
       "      <td>group</td>\n",
       "    </tr>\n",
       "    <tr>\n",
       "      <td>3</td>\n",
       "      <td>0.012457</td>\n",
       "      <td>disease_b</td>\n",
       "    </tr>\n",
       "  </tbody>\n",
       "</table>\n",
       "</div>"
      ],
      "text/plain": [
       "    importance                   feature\n",
       "1     0.506830                       age\n",
       "4     0.111005   elementary_school_count\n",
       "9     0.073635       elderly_alone_ratio\n",
       "7     0.064065             academy_ratio\n",
       "8     0.056523  elderly_population_ratio\n",
       "5     0.055110        kindergarten_count\n",
       "10    0.037076        nursing_home_count\n",
       "0     0.035115                       sex\n",
       "6     0.032094          university_count\n",
       "2     0.016091                     group\n",
       "3     0.012457                 disease_b"
      ]
     },
     "execution_count": 450,
     "metadata": {},
     "output_type": "execute_result"
    }
   ],
   "source": [
    "feature_imp = pd.Series(rf.feature_importances_)\n",
    "feature_imp.index = x.columns\n",
    "sorteds_features = feature_imp.sort_values(ascending=False)\n",
    "sorteds_features\n",
    "# The following is DataFrame format of the feature importance vector\n",
    "feature_impDF = pd.DataFrame()\n",
    "feature_impDF[\"importance\"] = rf.feature_importances_\n",
    "feature_impDF[\"feature\"] = x.columns\n",
    "feature_impDF.sort_values(\"importance\",ascending=False,inplace=True)\n",
    "feature_impDF"
   ]
  },
  {
   "cell_type": "code",
   "execution_count": 451,
   "metadata": {},
   "outputs": [
    {
     "data": {
      "text/plain": [
       "<matplotlib.axes._subplots.AxesSubplot at 0x18bb09c7f88>"
      ]
     },
     "execution_count": 451,
     "metadata": {},
     "output_type": "execute_result"
    },
    {
     "data": {
      "image/png": "[encoded data removed]",
      "text/plain": [
       "<Figure size 432x288 with 1 Axes>"
      ]
     },
     "metadata": {
      "needs_background": "light"
     },
     "output_type": "display_data"
    }
   ],
   "source": [
    "sorteds_features.plot(kind=\"bar\")"
   ]
  },
  {
   "cell_type": "markdown",
   "metadata": {},
   "source": [
    "从上面的计算和作图中，我们可以看到年龄是最重要的特征，相比年轻人，高龄病人更容易死亡，我们可以看到文化水平和医疗水平等相关的变量的重要性远\n",
    "小于年龄，而性别，是否为群体感染，是否患病对于病人是否死亡并没有特别大的作用。我们接下来对随机森林进行参数的调优。"
   ]
  },
  {
   "cell_type": "markdown",
   "metadata": {},
   "source": [
    "### 随机森林进行调优"
   ]
  },
  {
   "cell_type": "code",
   "execution_count": 454,
   "metadata": {},
   "outputs": [
    {
     "data": {
      "text/plain": [
       "GridSearchCV(cv=5, error_score='raise-deprecating',\n",
       "             estimator=RandomForestClassifier(bootstrap=True, class_weight=None,\n",
       "                                              criterion='gini', max_depth=None,\n",
       "                                              max_features='auto',\n",
       "                                              max_leaf_nodes=None,\n",
       "                                              min_impurity_decrease=0.0,\n",
       "                                              min_impurity_split=None,\n",
       "                                              min_samples_leaf=1,\n",
       "                                              min_samples_split=2,\n",
       "                                              min_weight_fraction_leaf=0.0,\n",
       "                                              n_estimators='warn', n_jobs=None,\n",
       "                                              oob_score=False,\n",
       "                                              random_state=None, verbose=0,\n",
       "                                              warm_start=False),\n",
       "             iid='warn', n_jobs=None,\n",
       "             param_grid={'criterion': ['gini', 'entropy'],\n",
       "                         'n_estimators': array([10, 20, 30, 40, 50, 60, 70, 80, 90])},\n",
       "             pre_dispatch='2*n_jobs', refit=True, return_train_score=False,\n",
       "             scoring='accuracy', verbose=0)"
      ]
     },
     "execution_count": 454,
     "metadata": {},
     "output_type": "execute_result"
    }
   ],
   "source": [
    "from sklearn.model_selection import GridSearchCV\n",
    "import numpy as np\n",
    "rf2 = RandomForestClassifier()\n",
    "parameters = {\"n_estimators\":np.arange(10,100,10),\"criterion\":[\"gini\",\"entropy\"]}\n",
    "grid_rf2 = GridSearchCV(estimator=rf2, param_grid=parameters, cv=5,scoring=\"accuracy\")\n",
    "grid_rf2.fit(x_train,y_train)"
   ]
  },
  {
   "cell_type": "code",
   "execution_count": 459,
   "metadata": {},
   "outputs": [
    {
     "name": "stdout",
     "output_type": "stream",
     "text": [
      "{'criterion': 'gini', 'n_estimators': 20}\n"
     ]
    }
   ],
   "source": [
    "print(grid_rf2.best_params_) "
   ]
  },
  {
   "cell_type": "markdown",
   "metadata": {},
   "source": [
    "根据网格计算，我们得到，最优的迭代为20次，此时的标准是gini指数。下面是运用这两个优化的参数进行新模型的建立。"
   ]
  },
  {
   "cell_type": "code",
   "execution_count": 460,
   "metadata": {},
   "outputs": [
    {
     "name": "stdout",
     "output_type": "stream",
     "text": [
      "\n",
      "混淆矩阵：\n",
      "[[ 13   4]\n",
      " [  4 338]]\n",
      "\n",
      "Accuracy:\n",
      "0.9777158774373259\n"
     ]
    }
   ],
   "source": [
    "rf3 = RandomForestClassifier(class_weight='balanced',random_state=1,criterion=\"gini\", n_estimators=20)\n",
    "###返回由训练集训练成的模型对验证集预测的结果\n",
    "test_pred = rf3.fit(x_train,y_train).predict(x_test)\n",
    "###打印混淆矩阵\n",
    "print('\\n'+'混淆矩阵：')\n",
    "print(con(y_test,test_pred))\n",
    "###打印测试准确率\n",
    "print('\\n'+'Accuracy:')\n",
    "print(rf3.score(x_test,y_test))"
   ]
  },
  {
   "cell_type": "code",
   "execution_count": 461,
   "metadata": {},
   "outputs": [
    {
     "name": "stdout",
     "output_type": "stream",
     "text": [
      "              precision    recall  f1-score   support\n",
      "\n",
      "    deceased       0.76      0.76      0.76        17\n",
      "    released       0.99      0.99      0.99       342\n",
      "\n",
      "    accuracy                           0.98       359\n",
      "   macro avg       0.88      0.88      0.88       359\n",
      "weighted avg       0.98      0.98      0.98       359\n",
      "\n"
     ]
    }
   ],
   "source": [
    "print(metrics.classification_report(y_test,test_pred))"
   ]
  },
  {
   "cell_type": "markdown",
   "metadata": {},
   "source": [
    "优化后的新随机森林模型对于死亡病人的预测召回率有所下降，而对于康复病人的预测召回率有所提升，总体来讲，rg3模型对于病人的状态分类效果有所提升。\n",
    "以下我们考虑 KNN 模型。"
   ]
  },
  {
   "cell_type": "markdown",
   "metadata": {},
   "source": [
    "### KNN"
   ]
  },
  {
   "cell_type": "code",
   "execution_count": 463,
   "metadata": {},
   "outputs": [
    {
     "name": "stdout",
     "output_type": "stream",
     "text": [
      "              precision    recall  f1-score   support\n",
      "\n",
      "    deceased       0.62      0.47      0.53        17\n",
      "    released       0.97      0.99      0.98       342\n",
      "\n",
      "    accuracy                           0.96       359\n",
      "   macro avg       0.79      0.73      0.76       359\n",
      "weighted avg       0.96      0.96      0.96       359\n",
      "\n",
      "[[  8   9]\n",
      " [  5 337]]\n",
      "0.9610027855153204\n"
     ]
    }
   ],
   "source": [
    "from sklearn.neighbors import KNeighborsClassifier\n",
    "knn_model = KNeighborsClassifier(n_neighbors = 11)\n",
    "knn_model.fit(x_train,y_train)\n",
    "test_pred = knn_model.predict(x_test)\n",
    "from sklearn import metrics\n",
    "print(metrics.classification_report(y_test,test_pred))\n",
    "print(metrics.confusion_matrix(y_test,test_pred))\n",
    "print(metrics.accuracy_score(y_test,test_pred))"
   ]
  },
  {
   "cell_type": "markdown",
   "metadata": {},
   "source": [
    "我们可以看到，过半死亡状态的病人被预测为出院状态，因此对于死亡状态的预测不够准确，需要优化KNN模型。我们设置了k=1至21之间的奇数，对这些k的值都进行了模型拟合。"
   ]
  },
  {
   "cell_type": "code",
   "execution_count": 479,
   "metadata": {},
   "outputs": [
    {
     "name": "stdout",
     "output_type": "stream",
     "text": [
      "k =  1\n",
      "\t正确率:  97.21%\n",
      "\t假阴性： 0.35294117647058826\n",
      " \t假阳性： 0.011695906432748537\n",
      "k =  3\n",
      "\t正确率:  97.77%\n",
      "\t假阴性： 0.35294117647058826\n",
      " \t假阳性： 0.005847953216374269\n",
      "k =  5\n",
      "\t正确率:  96.66%\n",
      "\t假阴性： 0.5882352941176471\n",
      " \t假阳性： 0.005847953216374269\n",
      "k =  7\n",
      "\t正确率:  96.66%\n",
      "\t假阴性： 0.5882352941176471\n",
      " \t假阳性： 0.005847953216374269\n",
      "k =  9\n",
      "\t正确率:  96.94%\n",
      "\t假阴性： 0.4117647058823529\n",
      " \t假阳性： 0.011695906432748537\n",
      "k =  11\n",
      "\t正确率:  96.10%\n",
      "\t假阴性： 0.5294117647058824\n",
      " \t假阳性： 0.014619883040935672\n",
      "k =  13\n",
      "\t正确率:  95.82%\n",
      "\t假阴性： 0.7647058823529411\n",
      " \t假阳性： 0.005847953216374269\n",
      "k =  15\n",
      "\t正确率:  95.82%\n",
      "\t假阴性： 0.7647058823529411\n",
      " \t假阳性： 0.005847953216374269\n",
      "k =  17\n",
      "\t正确率:  96.10%\n",
      "\t假阴性： 0.7647058823529411\n",
      " \t假阳性： 0.0029239766081871343\n",
      "k =  19\n",
      "\t正确率:  96.38%\n",
      "\t假阴性： 0.7058823529411765\n",
      " \t假阳性： 0.0029239766081871343\n",
      "k =  21\n",
      "\t正确率:  96.38%\n",
      "\t假阴性： 0.7058823529411765\n",
      " \t假阳性： 0.0029239766081871343\n"
     ]
    }
   ],
   "source": [
    "k_list=[1,3,5,7,9,11,13,15,17,19,21]\n",
    "for k in k_list:\n",
    "    knn_model = KNeighborsClassifier(n_neighbors = k)\n",
    "    knn_model.fit(x_train,y_train)\n",
    "    test_pred = knn_model.predict(x_test)\n",
    "    accuracy = metrics.accuracy_score(y_test,test_pred)\n",
    "    confusion_mat = metrics.confusion_matrix(y_test,test_pred)\n",
    "    \n",
    "    print(\"k = \",k)\n",
    "    print(\"\\t正确率: \", '%.2f'%(accuracy*100) + \"%\")\n",
    "    print(\"\\t假阴性：\",confusion_mat[0,1]/(confusion_mat[0,1]+confusion_mat[0,0]))\n",
    "    print(\"\",\"\\t假阳性：\",confusion_mat[1,0]/(confusion_mat[1,0]+confusion_mat[1,1]))"
   ]
  },
  {
   "cell_type": "markdown",
   "metadata": {},
   "source": [
    "可以看出预测出的假阴性所占的比例随k值增大逐渐上升，准确率逐渐下降，当k等于1的时候，假阴性为0.35，对于我们之前优化过的随机森林模型（假阴性为0.24），knn模型在这里并不是最优的模型。\n",
    "综上我们选择调优过后的随机森林模型rg3作为一个较好的分类出院和病死的分类模型。"
   ]
  },
  {
   "cell_type": "markdown",
   "metadata": {},
   "source": [
    "# SIR模型预测"
   ]
  },
  {
   "cell_type": "code",
   "execution_count": 644,
   "metadata": {},
   "outputs": [
    {
     "name": "stdout",
     "output_type": "stream",
     "text": [
      "[[-1.03590228e-03  1.78965383e-03 -6.58686323e-05 -5.02646780e-04\n",
      "   6.34980462e-04]]\n"
     ]
    }
   ],
   "source": [
    "time=covid.time\n",
    "weatherdata=pd.read_csv(\"C:/Users/hp/Desktop/coviddata/Weather.csv\")\n",
    "search=pd.read_csv(\"C:/Users/hp/Desktop/SearchTrend.csv\")\n",
    "trend=search[1480:1558][\"coronavirus\"]/100\n",
    "N=51269185\n",
    "I=time[\"confirmed\"]-(time[\"released\"]+time[\"deceased\"])\n",
    "I=I.values\n",
    "I=I[0:len(I)-1]\n",
    "weather=weatherdata[23679:24927][\"avg_temp\"].values\n",
    "templist=[]\n",
    "for i in range(78):\n",
    "  sublist=[]\n",
    "  for j in range((i-1)*16+1,(i*16)+1):\n",
    "    sublist.append(weather[j])\n",
    "  mid=np.median(sublist)\n",
    "  templist.append(mid)###77\n",
    "tem=templist   \n",
    "del tem[-1]  \n",
    "R=time[\"released\"]\n",
    "R=R.values\n",
    "R=R[0:len(R)-1]\n",
    "D=time[\"deceased\"]\n",
    "D=D.values\n",
    "D=D[0:len(D)-1]\n",
    "RR=R+D\n",
    "triS=N-I-RR\n",
    "def delta(a):\n",
    "    delta = []\t#生成一个空列表，用来放新列表\n",
    "    for i in range(len(a)-1):\n",
    "        b =a[i+1] - a[i]\n",
    "        delta.append(b)\t\n",
    "    return delta\n",
    "\n",
    "deltaSS=delta(triS)\n",
    "deltaR=delta(R)\n",
    "deltaD=delta(D)\n",
    "deltaI=delta(I)\n",
    "II=I[0:len(I)-1]\n",
    "SS=triS[0:len(triS)-1]\n",
    "tren=trend[0:len(trend)-1]\n",
    "col1=-II*SS/N\n",
    "col11=col1.tolist()\n",
    "col11.extend([i * (-1) for i in col11])\n",
    "for i in [0]*154:\n",
    "    col11.append(i)\n",
    "col1=col11    \n",
    "\n",
    "col2=-np.array(tem)*II*SS/N\n",
    "col22=col2.tolist()\n",
    "col22.extend([i * (-1) for i in col22])\n",
    "for i in [0]*154:\n",
    "    col22.append(i)\n",
    "col2=col22  \n",
    "\n",
    "col3=-tren*II*SS/N\n",
    "col33=col3.tolist()\n",
    "col33.extend([i * (-1) for i in col33])\n",
    "for i in [0]*154:\n",
    "    col33.append(i)\n",
    "col3=col33\n",
    "\n",
    "col4=[0]*77\n",
    "col4.extend([i for i in (-II).tolist()])\n",
    "col4.extend([i for i in II.tolist()])\n",
    "col4.extend([0]*77)\n",
    "\n",
    "col5=[0]*77\n",
    "col5.extend([i for i in (-II).tolist()])\n",
    "col5.extend([0]*77)\n",
    "col5.extend([i for i in II.tolist()])\n",
    "\n",
    "Y=deltaSS\n",
    "Y.extend(deltaI)\n",
    "Y.extend(deltaR)\n",
    "Y.extend(deltaD)\n",
    "\n",
    "Y=np.array(Y)\n",
    "X=np.array([col1,col2,col3,col4,col5])\n",
    "n=len(col1)\n",
    "X=X.reshape(n,-1)\n",
    "Y=Y.reshape(n,-1)\n",
    "linreg = LinearRegression()\n",
    "linreg.fit(X, Y)\n",
    "\n",
    "print(linreg.coef_)\n",
    "\n"
   ]
  },
  {
   "cell_type": "code",
   "execution_count": null,
   "metadata": {},
   "outputs": [],
   "source": [
    "regr = linear_model.LinearRegression()\n",
    "regr.fit(x.astype(float),y)\n",
    "print('Intercept: %.2f'\n",
    "      % regr.intercept_)\n",
    "print('Coefficients: ')\n",
    "print(regr.coef_)\n",
    "print('Residual sum of squares: %.2f'\n",
    "      % np.mean((regr.predict(x) - y) ** 2))\n",
    "print('Variance score: %.2f' % regr.score(x, y))"
   ]
  },
  {
   "cell_type": "code",
   "execution_count": 371,
   "metadata": {},
   "outputs": [
    {
     "name": "stdout",
     "output_type": "stream",
     "text": [
      "Intercept: 18.52\n",
      "Coefficients: \n",
      "[ 0.20697447  0.03114256  0.79947687 -0.04040309  0.03776218  0.21718636\n",
      "  0.49904658 -0.66103802  1.2454516  -0.00195259]\n",
      "Residual sum of squares: 53.73\n",
      "Variance score: 0.05\n"
     ]
    }
   ],
   "source": [
    "regr = linear_model.LinearRegression()\n",
    "regr.fit(x.astype(float),y)\n",
    "print('Intercept: %.2f'\n",
    "      % regr.intercept_)\n",
    "print('Coefficients: ')\n",
    "print(regr.coef_)\n",
    "print('Residual sum of squares: %.2f'\n",
    "      % np.mean((regr.predict(x) - y) ** 2))\n",
    "print('Variance score: %.2f' % regr.score(x, y))"
   ]
  },
  {
   "cell_type": "code",
   "execution_count": 348,
   "metadata": {},
   "outputs": [
    {
     "data": {
      "text/plain": [
       "pandas.core.series.Series"
      ]
     },
     "execution_count": 348,
     "metadata": {},
     "output_type": "execute_result"
    }
   ],
   "source": [
    "type(y)"
   ]
  },
  {
   "cell_type": "code",
   "execution_count": 373,
   "metadata": {
    "collapsed": true
   },
   "outputs": [
    {
     "data": {
      "text/html": [
       "<table class=\"simpletable\">\n",
       "<caption>OLS Regression Results</caption>\n",
       "<tr>\n",
       "  <th>Dep. Variable:</th>      <td>recoverytime</td>   <th>  R-squared (uncentered):</th>      <td>   0.877</td>\n",
       "</tr>\n",
       "<tr>\n",
       "  <th>Model:</th>                   <td>OLS</td>       <th>  Adj. R-squared (uncentered):</th> <td>   0.876</td>\n",
       "</tr>\n",
       "<tr>\n",
       "  <th>Method:</th>             <td>Least Squares</td>  <th>  F-statistic:       </th>          <td>   691.5</td>\n",
       "</tr>\n",
       "<tr>\n",
       "  <th>Date:</th>             <td>Wed, 03 Jun 2020</td> <th>  Prob (F-statistic):</th>           <td>  0.00</td> \n",
       "</tr>\n",
       "<tr>\n",
       "  <th>Time:</th>                 <td>13:34:14</td>     <th>  Log-Likelihood:    </th>          <td> -3370.3</td>\n",
       "</tr>\n",
       "<tr>\n",
       "  <th>No. Observations:</th>      <td>   979</td>      <th>  AIC:               </th>          <td>   6761.</td>\n",
       "</tr>\n",
       "<tr>\n",
       "  <th>Df Residuals:</th>          <td>   969</td>      <th>  BIC:               </th>          <td>   6809.</td>\n",
       "</tr>\n",
       "<tr>\n",
       "  <th>Df Model:</th>              <td>    10</td>      <th>                     </th>              <td> </td>   \n",
       "</tr>\n",
       "<tr>\n",
       "  <th>Covariance Type:</th>      <td>nonrobust</td>    <th>                     </th>              <td> </td>   \n",
       "</tr>\n",
       "</table>\n",
       "<table class=\"simpletable\">\n",
       "<tr>\n",
       "              <td></td>                <th>coef</th>     <th>std err</th>      <th>t</th>      <th>P>|t|</th>  <th>[0.025</th>    <th>0.975]</th>  \n",
       "</tr>\n",
       "<tr>\n",
       "  <th>sex</th>                      <td>    0.8116</td> <td>    0.508</td> <td>    1.599</td> <td> 0.110</td> <td>   -0.185</td> <td>    1.808</td>\n",
       "</tr>\n",
       "<tr>\n",
       "  <th>age</th>                      <td>    0.0605</td> <td>    0.013</td> <td>    4.510</td> <td> 0.000</td> <td>    0.034</td> <td>    0.087</td>\n",
       "</tr>\n",
       "<tr>\n",
       "  <th>group</th>                    <td>    1.1540</td> <td>    0.786</td> <td>    1.467</td> <td> 0.143</td> <td>   -0.389</td> <td>    2.697</td>\n",
       "</tr>\n",
       "<tr>\n",
       "  <th>elementary_school_count</th>  <td>   -0.0223</td> <td>    0.040</td> <td>   -0.559</td> <td> 0.577</td> <td>   -0.101</td> <td>    0.056</td>\n",
       "</tr>\n",
       "<tr>\n",
       "  <th>kindergarten_count</th>       <td>    0.0677</td> <td>    0.024</td> <td>    2.840</td> <td> 0.005</td> <td>    0.021</td> <td>    0.114</td>\n",
       "</tr>\n",
       "<tr>\n",
       "  <th>university_count</th>         <td>    0.3502</td> <td>    0.082</td> <td>    4.269</td> <td> 0.000</td> <td>    0.189</td> <td>    0.511</td>\n",
       "</tr>\n",
       "<tr>\n",
       "  <th>academy_ratio</th>            <td>    3.6997</td> <td>    0.531</td> <td>    6.965</td> <td> 0.000</td> <td>    2.657</td> <td>    4.742</td>\n",
       "</tr>\n",
       "<tr>\n",
       "  <th>elderly_population_ratio</th> <td>    0.3544</td> <td>    0.178</td> <td>    1.995</td> <td> 0.046</td> <td>    0.006</td> <td>    0.703</td>\n",
       "</tr>\n",
       "<tr>\n",
       "  <th>elderly_alone_ratio</th>      <td>    0.2723</td> <td>    0.304</td> <td>    0.897</td> <td> 0.370</td> <td>   -0.323</td> <td>    0.868</td>\n",
       "</tr>\n",
       "<tr>\n",
       "  <th>nursing_home_count</th>       <td>   -0.0029</td> <td>    0.001</td> <td>   -3.624</td> <td> 0.000</td> <td>   -0.004</td> <td>   -0.001</td>\n",
       "</tr>\n",
       "</table>\n",
       "<table class=\"simpletable\">\n",
       "<tr>\n",
       "  <th>Omnibus:</th>       <td>17.580</td> <th>  Durbin-Watson:     </th> <td>   1.543</td>\n",
       "</tr>\n",
       "<tr>\n",
       "  <th>Prob(Omnibus):</th> <td> 0.000</td> <th>  Jarque-Bera (JB):  </th> <td>  13.835</td>\n",
       "</tr>\n",
       "<tr>\n",
       "  <th>Skew:</th>          <td> 0.203</td> <th>  Prob(JB):          </th> <td>0.000990</td>\n",
       "</tr>\n",
       "<tr>\n",
       "  <th>Kurtosis:</th>      <td> 2.583</td> <th>  Cond. No.          </th> <td>2.49e+03</td>\n",
       "</tr>\n",
       "</table><br/><br/>Warnings:<br/>[1] Standard Errors assume that the covariance matrix of the errors is correctly specified.<br/>[2] The condition number is large, 2.49e+03. This might indicate that there are<br/>strong multicollinearity or other numerical problems."
      ],
      "text/plain": [
       "<class 'statsmodels.iolib.summary.Summary'>\n",
       "\"\"\"\n",
       "                                 OLS Regression Results                                \n",
       "=======================================================================================\n",
       "Dep. Variable:           recoverytime   R-squared (uncentered):                   0.877\n",
       "Model:                            OLS   Adj. R-squared (uncentered):              0.876\n",
       "Method:                 Least Squares   F-statistic:                              691.5\n",
       "Date:                Wed, 03 Jun 2020   Prob (F-statistic):                        0.00\n",
       "Time:                        13:34:14   Log-Likelihood:                         -3370.3\n",
       "No. Observations:                 979   AIC:                                      6761.\n",
       "Df Residuals:                     969   BIC:                                      6809.\n",
       "Df Model:                          10                                                  \n",
       "Covariance Type:            nonrobust                                                  \n",
       "============================================================================================\n",
       "                               coef    std err          t      P>|t|      [0.025      0.975]\n",
       "--------------------------------------------------------------------------------------------\n",
       "sex                          0.8116      0.508      1.599      0.110      -0.185       1.808\n",
       "age                          0.0605      0.013      4.510      0.000       0.034       0.087\n",
       "group                        1.1540      0.786      1.467      0.143      -0.389       2.697\n",
       "elementary_school_count     -0.0223      0.040     -0.559      0.577      -0.101       0.056\n",
       "kindergarten_count           0.0677      0.024      2.840      0.005       0.021       0.114\n",
       "university_count             0.3502      0.082      4.269      0.000       0.189       0.511\n",
       "academy_ratio                3.6997      0.531      6.965      0.000       2.657       4.742\n",
       "elderly_population_ratio     0.3544      0.178      1.995      0.046       0.006       0.703\n",
       "elderly_alone_ratio          0.2723      0.304      0.897      0.370      -0.323       0.868\n",
       "nursing_home_count          -0.0029      0.001     -3.624      0.000      -0.004      -0.001\n",
       "==============================================================================\n",
       "Omnibus:                       17.580   Durbin-Watson:                   1.543\n",
       "Prob(Omnibus):                  0.000   Jarque-Bera (JB):               13.835\n",
       "Skew:                           0.203   Prob(JB):                     0.000990\n",
       "Kurtosis:                       2.583   Cond. No.                     2.49e+03\n",
       "==============================================================================\n",
       "\n",
       "Warnings:\n",
       "[1] Standard Errors assume that the covariance matrix of the errors is correctly specified.\n",
       "[2] The condition number is large, 2.49e+03. This might indicate that there are\n",
       "strong multicollinearity or other numerical problems.\n",
       "\"\"\""
      ]
     },
     "execution_count": 373,
     "metadata": {},
     "output_type": "execute_result"
    }
   ],
   "source": [
    "import statsmodels.api as sm\n",
    "from statsmodels.stats.outliers_influence import summary_table \n",
    "ols = sm.OLS(y,x.astype(float)).fit()\n",
    "ols.summary()"
   ]
  },
  {
   "cell_type": "code",
   "execution_count": 80,
   "metadata": {},
   "outputs": [],
   "source": [
    "from sklearn import preprocessing\n",
    "names=[\"elementary_school_count\",\"kindergarten_count\",\"university_count\",\"academy_ratio\",\\\n",
    "       \"elderly_population_ratio\",\"elderly_alone_ratio\",\"nursing_home_count\"]\n",
    "edumedi=final_info[names]\n",
    "edumedi_zscored = pd.DataFrame(preprocessing.scale(edumedi),columns = edumedi.columns)\n",
    "final_info[names]=edumedi_zscored"
   ]
  },
  {
   "cell_type": "code",
   "execution_count": 282,
   "metadata": {
    "collapsed": true
   },
   "outputs": [
    {
     "name": "stderr",
     "output_type": "stream",
     "text": [
      "E:\\anacode\\lib\\site-packages\\ipykernel_launcher.py:4: SettingWithCopyWarning: \n",
      "A value is trying to be set on a copy of a slice from a DataFrame.\n",
      "Try using .loc[row_indexer,col_indexer] = value instead\n",
      "\n",
      "See the caveats in the documentation: http://pandas.pydata.org/pandas-docs/stable/user_guide/indexing.html#returning-a-view-versus-a-copy\n",
      "  after removing the cwd from sys.path.\n"
     ]
    }
   ],
   "source": [
    "released=final_info[final_info[\"released_date\"].isnull()!=True]\n",
    "rctime=released[\"released_date\"]-released[\"confirmed_date\"]\n",
    "rctime=rctime.dt.days[0:len(rctime)]\n",
    "released[\"recoverytime\"]=rctime"
   ]
  },
  {
   "cell_type": "code",
   "execution_count": 331,
   "metadata": {
    "collapsed": true
   },
   "outputs": [
    {
     "data": {
      "text/html": [
       "<div>\n",
       "<style scoped>\n",
       "    .dataframe tbody tr th:only-of-type {\n",
       "        vertical-align: middle;\n",
       "    }\n",
       "\n",
       "    .dataframe tbody tr th {\n",
       "        vertical-align: top;\n",
       "    }\n",
       "\n",
       "    .dataframe thead th {\n",
       "        text-align: right;\n",
       "    }\n",
       "</style>\n",
       "<table border=\"1\" class=\"dataframe\">\n",
       "  <thead>\n",
       "    <tr style=\"text-align: right;\">\n",
       "      <th></th>\n",
       "      <th>patient_id</th>\n",
       "      <th>sex</th>\n",
       "      <th>birth_year</th>\n",
       "      <th>age</th>\n",
       "      <th>province</th>\n",
       "      <th>city</th>\n",
       "      <th>infection_case</th>\n",
       "      <th>infected_by</th>\n",
       "      <th>contact_number</th>\n",
       "      <th>disease</th>\n",
       "      <th>...</th>\n",
       "      <th>disease_b</th>\n",
       "      <th>start_date</th>\n",
       "      <th>elementary_school_count</th>\n",
       "      <th>kindergarten_count</th>\n",
       "      <th>university_count</th>\n",
       "      <th>academy_ratio</th>\n",
       "      <th>elderly_population_ratio</th>\n",
       "      <th>elderly_alone_ratio</th>\n",
       "      <th>nursing_home_count</th>\n",
       "      <th>infectedtime</th>\n",
       "    </tr>\n",
       "  </thead>\n",
       "  <tbody>\n",
       "    <tr>\n",
       "      <td>0</td>\n",
       "      <td>1000000001</td>\n",
       "      <td>1</td>\n",
       "      <td>1964.0</td>\n",
       "      <td>50</td>\n",
       "      <td>Seoul</td>\n",
       "      <td>Gangseo-gu</td>\n",
       "      <td>overseas inflow</td>\n",
       "      <td>-1.000000e+00</td>\n",
       "      <td>75.0</td>\n",
       "      <td>NaN</td>\n",
       "      <td>...</td>\n",
       "      <td>0</td>\n",
       "      <td>2020-01-22</td>\n",
       "      <td>36</td>\n",
       "      <td>56</td>\n",
       "      <td>1</td>\n",
       "      <td>1.17</td>\n",
       "      <td>18.42</td>\n",
       "      <td>7.4</td>\n",
       "      <td>728</td>\n",
       "      <td>1</td>\n",
       "    </tr>\n",
       "    <tr>\n",
       "      <td>1</td>\n",
       "      <td>1000000002</td>\n",
       "      <td>1</td>\n",
       "      <td>1987.0</td>\n",
       "      <td>30</td>\n",
       "      <td>Seoul</td>\n",
       "      <td>Jungnang-gu</td>\n",
       "      <td>overseas inflow</td>\n",
       "      <td>-1.000000e+00</td>\n",
       "      <td>31.0</td>\n",
       "      <td>NaN</td>\n",
       "      <td>...</td>\n",
       "      <td>0</td>\n",
       "      <td>2020-01-30</td>\n",
       "      <td>23</td>\n",
       "      <td>31</td>\n",
       "      <td>1</td>\n",
       "      <td>0.70</td>\n",
       "      <td>16.65</td>\n",
       "      <td>6.9</td>\n",
       "      <td>689</td>\n",
       "      <td>0</td>\n",
       "    </tr>\n",
       "    <tr>\n",
       "      <td>2</td>\n",
       "      <td>1000000003</td>\n",
       "      <td>1</td>\n",
       "      <td>1964.0</td>\n",
       "      <td>50</td>\n",
       "      <td>Seoul</td>\n",
       "      <td>Jongno-gu</td>\n",
       "      <td>contact with patient</td>\n",
       "      <td>2.002000e+09</td>\n",
       "      <td>17.0</td>\n",
       "      <td>NaN</td>\n",
       "      <td>...</td>\n",
       "      <td>0</td>\n",
       "      <td>2020-01-26</td>\n",
       "      <td>13</td>\n",
       "      <td>17</td>\n",
       "      <td>3</td>\n",
       "      <td>1.71</td>\n",
       "      <td>18.27</td>\n",
       "      <td>6.8</td>\n",
       "      <td>668</td>\n",
       "      <td>4</td>\n",
       "    </tr>\n",
       "    <tr>\n",
       "      <td>3</td>\n",
       "      <td>1000000004</td>\n",
       "      <td>1</td>\n",
       "      <td>1991.0</td>\n",
       "      <td>20</td>\n",
       "      <td>Seoul</td>\n",
       "      <td>Mapo-gu</td>\n",
       "      <td>overseas inflow</td>\n",
       "      <td>-1.000000e+00</td>\n",
       "      <td>9.0</td>\n",
       "      <td>NaN</td>\n",
       "      <td>...</td>\n",
       "      <td>0</td>\n",
       "      <td>2020-01-26</td>\n",
       "      <td>22</td>\n",
       "      <td>24</td>\n",
       "      <td>2</td>\n",
       "      <td>1.83</td>\n",
       "      <td>16.65</td>\n",
       "      <td>6.9</td>\n",
       "      <td>689</td>\n",
       "      <td>4</td>\n",
       "    </tr>\n",
       "    <tr>\n",
       "      <td>4</td>\n",
       "      <td>1000000005</td>\n",
       "      <td>0</td>\n",
       "      <td>1992.0</td>\n",
       "      <td>20</td>\n",
       "      <td>Seoul</td>\n",
       "      <td>Seongbuk-gu</td>\n",
       "      <td>contact with patient</td>\n",
       "      <td>1.000000e+09</td>\n",
       "      <td>2.0</td>\n",
       "      <td>NaN</td>\n",
       "      <td>...</td>\n",
       "      <td>0</td>\n",
       "      <td>2020-01-31</td>\n",
       "      <td>29</td>\n",
       "      <td>49</td>\n",
       "      <td>6</td>\n",
       "      <td>1.02</td>\n",
       "      <td>16.65</td>\n",
       "      <td>6.9</td>\n",
       "      <td>689</td>\n",
       "      <td>0</td>\n",
       "    </tr>\n",
       "    <tr>\n",
       "      <td>...</td>\n",
       "      <td>...</td>\n",
       "      <td>...</td>\n",
       "      <td>...</td>\n",
       "      <td>...</td>\n",
       "      <td>...</td>\n",
       "      <td>...</td>\n",
       "      <td>...</td>\n",
       "      <td>...</td>\n",
       "      <td>...</td>\n",
       "      <td>...</td>\n",
       "      <td>...</td>\n",
       "      <td>...</td>\n",
       "      <td>...</td>\n",
       "      <td>...</td>\n",
       "      <td>...</td>\n",
       "      <td>...</td>\n",
       "      <td>...</td>\n",
       "      <td>...</td>\n",
       "      <td>...</td>\n",
       "      <td>...</td>\n",
       "      <td>...</td>\n",
       "    </tr>\n",
       "    <tr>\n",
       "      <td>3092</td>\n",
       "      <td>6100000084</td>\n",
       "      <td>1</td>\n",
       "      <td>1971.0</td>\n",
       "      <td>40</td>\n",
       "      <td>Gyeongsangnam-do</td>\n",
       "      <td>Geoje-si</td>\n",
       "      <td>etc</td>\n",
       "      <td>-1.000000e+00</td>\n",
       "      <td>0.0</td>\n",
       "      <td>NaN</td>\n",
       "      <td>...</td>\n",
       "      <td>0</td>\n",
       "      <td>2020-03-11</td>\n",
       "      <td>38</td>\n",
       "      <td>58</td>\n",
       "      <td>1</td>\n",
       "      <td>1.76</td>\n",
       "      <td>10.22</td>\n",
       "      <td>4.7</td>\n",
       "      <td>317</td>\n",
       "      <td>0</td>\n",
       "    </tr>\n",
       "    <tr>\n",
       "      <td>3119</td>\n",
       "      <td>7000000001</td>\n",
       "      <td>1</td>\n",
       "      <td>1998.0</td>\n",
       "      <td>20</td>\n",
       "      <td>Jeju-do</td>\n",
       "      <td>Jeju-do</td>\n",
       "      <td>etc</td>\n",
       "      <td>-1.000000e+00</td>\n",
       "      <td>87.0</td>\n",
       "      <td>NaN</td>\n",
       "      <td>...</td>\n",
       "      <td>0</td>\n",
       "      <td>2020-02-20</td>\n",
       "      <td>113</td>\n",
       "      <td>123</td>\n",
       "      <td>4</td>\n",
       "      <td>1.53</td>\n",
       "      <td>15.10</td>\n",
       "      <td>6.4</td>\n",
       "      <td>1245</td>\n",
       "      <td>0</td>\n",
       "    </tr>\n",
       "    <tr>\n",
       "      <td>3120</td>\n",
       "      <td>7000000002</td>\n",
       "      <td>0</td>\n",
       "      <td>1998.0</td>\n",
       "      <td>20</td>\n",
       "      <td>Jeju-do</td>\n",
       "      <td>Jeju-do</td>\n",
       "      <td>etc</td>\n",
       "      <td>-1.000000e+00</td>\n",
       "      <td>84.0</td>\n",
       "      <td>NaN</td>\n",
       "      <td>...</td>\n",
       "      <td>0</td>\n",
       "      <td>2020-02-22</td>\n",
       "      <td>113</td>\n",
       "      <td>123</td>\n",
       "      <td>4</td>\n",
       "      <td>1.53</td>\n",
       "      <td>15.10</td>\n",
       "      <td>6.4</td>\n",
       "      <td>1245</td>\n",
       "      <td>0</td>\n",
       "    </tr>\n",
       "    <tr>\n",
       "      <td>3121</td>\n",
       "      <td>7000000003</td>\n",
       "      <td>0</td>\n",
       "      <td>1972.0</td>\n",
       "      <td>40</td>\n",
       "      <td>Jeju-do</td>\n",
       "      <td>Jeju-do</td>\n",
       "      <td>etc</td>\n",
       "      <td>-1.000000e+00</td>\n",
       "      <td>21.0</td>\n",
       "      <td>NaN</td>\n",
       "      <td>...</td>\n",
       "      <td>0</td>\n",
       "      <td>2020-03-02</td>\n",
       "      <td>113</td>\n",
       "      <td>123</td>\n",
       "      <td>4</td>\n",
       "      <td>1.53</td>\n",
       "      <td>15.10</td>\n",
       "      <td>6.4</td>\n",
       "      <td>1245</td>\n",
       "      <td>0</td>\n",
       "    </tr>\n",
       "    <tr>\n",
       "      <td>3122</td>\n",
       "      <td>7000000004</td>\n",
       "      <td>1</td>\n",
       "      <td>1974.0</td>\n",
       "      <td>40</td>\n",
       "      <td>Jeju-do</td>\n",
       "      <td>Jeju-do</td>\n",
       "      <td>etc</td>\n",
       "      <td>-1.000000e+00</td>\n",
       "      <td>74.0</td>\n",
       "      <td>NaN</td>\n",
       "      <td>...</td>\n",
       "      <td>0</td>\n",
       "      <td>2020-03-04</td>\n",
       "      <td>113</td>\n",
       "      <td>123</td>\n",
       "      <td>4</td>\n",
       "      <td>1.53</td>\n",
       "      <td>15.10</td>\n",
       "      <td>6.4</td>\n",
       "      <td>1245</td>\n",
       "      <td>0</td>\n",
       "    </tr>\n",
       "  </tbody>\n",
       "</table>\n",
       "<p>979 rows × 29 columns</p>\n",
       "</div>"
      ],
      "text/plain": [
       "      patient_id  sex  birth_year age          province         city  \\\n",
       "0     1000000001    1      1964.0  50             Seoul   Gangseo-gu   \n",
       "1     1000000002    1      1987.0  30             Seoul  Jungnang-gu   \n",
       "2     1000000003    1      1964.0  50             Seoul    Jongno-gu   \n",
       "3     1000000004    1      1991.0  20             Seoul      Mapo-gu   \n",
       "4     1000000005    0      1992.0  20             Seoul  Seongbuk-gu   \n",
       "...          ...  ...         ...  ..               ...          ...   \n",
       "3092  6100000084    1      1971.0  40  Gyeongsangnam-do     Geoje-si   \n",
       "3119  7000000001    1      1998.0  20           Jeju-do      Jeju-do   \n",
       "3120  7000000002    0      1998.0  20           Jeju-do      Jeju-do   \n",
       "3121  7000000003    0      1972.0  40           Jeju-do      Jeju-do   \n",
       "3122  7000000004    1      1974.0  40           Jeju-do      Jeju-do   \n",
       "\n",
       "            infection_case   infected_by  contact_number disease  ...  \\\n",
       "0          overseas inflow -1.000000e+00            75.0     NaN  ...   \n",
       "1          overseas inflow -1.000000e+00            31.0     NaN  ...   \n",
       "2     contact with patient  2.002000e+09            17.0     NaN  ...   \n",
       "3          overseas inflow -1.000000e+00             9.0     NaN  ...   \n",
       "4     contact with patient  1.000000e+09             2.0     NaN  ...   \n",
       "...                    ...           ...             ...     ...  ...   \n",
       "3092                   etc -1.000000e+00             0.0     NaN  ...   \n",
       "3119                   etc -1.000000e+00            87.0     NaN  ...   \n",
       "3120                   etc -1.000000e+00            84.0     NaN  ...   \n",
       "3121                   etc -1.000000e+00            21.0     NaN  ...   \n",
       "3122                   etc -1.000000e+00            74.0     NaN  ...   \n",
       "\n",
       "     disease_b start_date elementary_school_count kindergarten_count  \\\n",
       "0            0 2020-01-22                      36                 56   \n",
       "1            0 2020-01-30                      23                 31   \n",
       "2            0 2020-01-26                      13                 17   \n",
       "3            0 2020-01-26                      22                 24   \n",
       "4            0 2020-01-31                      29                 49   \n",
       "...        ...        ...                     ...                ...   \n",
       "3092         0 2020-03-11                      38                 58   \n",
       "3119         0 2020-02-20                     113                123   \n",
       "3120         0 2020-02-22                     113                123   \n",
       "3121         0 2020-03-02                     113                123   \n",
       "3122         0 2020-03-04                     113                123   \n",
       "\n",
       "     university_count  academy_ratio elderly_population_ratio  \\\n",
       "0                   1           1.17                    18.42   \n",
       "1                   1           0.70                    16.65   \n",
       "2                   3           1.71                    18.27   \n",
       "3                   2           1.83                    16.65   \n",
       "4                   6           1.02                    16.65   \n",
       "...               ...            ...                      ...   \n",
       "3092                1           1.76                    10.22   \n",
       "3119                4           1.53                    15.10   \n",
       "3120                4           1.53                    15.10   \n",
       "3121                4           1.53                    15.10   \n",
       "3122                4           1.53                    15.10   \n",
       "\n",
       "     elderly_alone_ratio nursing_home_count  infectedtime  \n",
       "0                    7.4                728             1  \n",
       "1                    6.9                689             0  \n",
       "2                    6.8                668             4  \n",
       "3                    6.9                689             4  \n",
       "4                    6.9                689             0  \n",
       "...                  ...                ...           ...  \n",
       "3092                 4.7                317             0  \n",
       "3119                 6.4               1245             0  \n",
       "3120                 6.4               1245             0  \n",
       "3121                 6.4               1245             0  \n",
       "3122                 6.4               1245             0  \n",
       "\n",
       "[979 rows x 29 columns]"
      ]
     },
     "execution_count": 331,
     "metadata": {},
     "output_type": "execute_result"
    }
   ],
   "source": [
    "released"
   ]
  },
  {
   "cell_type": "code",
   "execution_count": 253,
   "metadata": {},
   "outputs": [],
   "source": [
    "y=released[\"recoverytime\"]\n",
    "x=released.drop([\"recoverytime\"], axis = 1)"
   ]
  },
  {
   "cell_type": "code",
   "execution_count": 254,
   "metadata": {},
   "outputs": [],
   "source": [
    "from sklearn.model_selection import train_test_split \n",
    "from sklearn.linear_model import LinearRegression \n",
    "x_train, x_test, y_train, y_test = train_test_split(x, y, test_size=0.2, random_state=42)\n",
    "y_train=y_train.reset_index(drop = True)\n",
    "y_test=y_test.reset_index(drop = True)\n",
    "x_train=x_train.reset_index(drop = True)\n",
    "x_test=x_test.reset_index(drop = True)"
   ]
  },
  {
   "cell_type": "code",
   "execution_count": 288,
   "metadata": {},
   "outputs": [],
   "source": [
    "x_new=released[[\"sex\",\"age\",\"group\",\"elementary_school_count\",\"kindergarten_count\",\"university_count\",\"academy_ratio\",\n",
    "              \"elderly_population_ratio\",\"elderly_alone_ratio\" ,\"nursing_home_count\"]]\n",
    "y=released[\"recoverytime\"]"
   ]
  },
  {
   "cell_type": "markdown",
   "metadata": {},
   "source": [
    "### 先对教育和医疗PCA再进行回归 各保留2个主成分"
   ]
  },
  {
   "cell_type": "code",
   "execution_count": 255,
   "metadata": {},
   "outputs": [
    {
     "name": "stdout",
     "output_type": "stream",
     "text": [
      "0.87\n",
      "0.99\n"
     ]
    }
   ],
   "source": [
    "from sklearn.metrics import classification_report,confusion_matrix,accuracy_score\n",
    "from sklearn.decomposition import PCA as RandomizedPCA\n",
    "name1=[\"elementary_school_count\",\"kindergarten_count\",\"university_count\",\"academy_ratio\"]\n",
    "name2=[\"elderly_population_ratio\",\"elderly_alone_ratio\",\"nursing_home_count\"]\n",
    "n1= 2\n",
    "n2= 2\n",
    "pca1 = RandomizedPCA(n_components=n1).fit(x_train[name1])\n",
    "print(round(sum(pca1.explained_variance_ratio_),2))\n",
    "pca2 = RandomizedPCA(n_components=n2).fit(x_train[name2])\n",
    "print(round(sum(pca2.explained_variance_ratio_),2))"
   ]
  },
  {
   "cell_type": "code",
   "execution_count": 256,
   "metadata": {},
   "outputs": [],
   "source": [
    "x_train_pca1 = pd.DataFrame(pca1.transform(x_train[name1]))\n",
    "x_train_pca2 = pd.DataFrame(pca2.transform(x_train[name2]))\n",
    "x_test_pca1 = pd.DataFrame(pca1.transform(x_test[name1]))\n",
    "x_test_pca2 = pd.DataFrame(pca2.transform(x_test[name2]))\n",
    "x_train_pca1.columns=[\"edu_cp1\",\"edu_cp2\"]\n",
    "x_train_pca2.columns=[\"medi_cp1\",\"medi_cp2\"]\n",
    "x_test_pca1.columns=[\"edu_cp1\",\"edu_cp2\"]\n",
    "x_test_pca2.columns=[\"medi_cp1\",\"medi_cp2\"]"
   ]
  },
  {
   "cell_type": "code",
   "execution_count": 257,
   "metadata": {},
   "outputs": [],
   "source": [
    "x_train_=pd.concat([x_train,x_train_pca1,x_train_pca2],axis=1)\n",
    "var=[\"sex\",\"birth_year\",\"group\",\"edu_cp1\",\"edu_cp2\",\"medi_cp1\",\"medi_cp2\"]\n",
    "x_train_new=x_train_[var]\n",
    "x_test_=pd.concat([x_test,x_test_pca1,x_test_pca2],axis=1)\n",
    "x_test_new=x_test_[var]"
   ]
  },
  {
   "cell_type": "code",
   "execution_count": 258,
   "metadata": {},
   "outputs": [
    {
     "name": "stdout",
     "output_type": "stream",
     "text": [
      "Intercept: 91.35\n",
      "Coefficients: \n",
      "[ 0.36731953 -0.03611529  0.65257135  0.90503171 -0.49767427  1.3904571\n",
      " -0.95354339]\n",
      "Residual sum of squares: 55.02\n",
      "Variance score: 0.04\n"
     ]
    }
   ],
   "source": [
    "from sklearn import linear_model\n",
    "regr = linear_model.LinearRegression()\n",
    "regr.fit(x_train_new,y_train)\n",
    "\n",
    "print('Intercept: %.2f'\n",
    "      % regr.intercept_)\n",
    "print('Coefficients: ')\n",
    "print(regr.coef_)\n",
    "print('Residual sum of squares: %.2f'\n",
    "      % np.mean((regr.predict(x_train_new) - y_train) ** 2))\n",
    "print('Variance score: %.2f' % regr.score(x_train_new, y_train))"
   ]
  },
  {
   "cell_type": "code",
   "execution_count": 270,
   "metadata": {},
   "outputs": [],
   "source": [
    "age=2020-x_train_new[\"birth_year\"]\n",
    "age2=age**3"
   ]
  },
  {
   "cell_type": "code",
   "execution_count": 271,
   "metadata": {},
   "outputs": [
    {
     "data": {
      "text/html": [
       "<div>\n",
       "<style scoped>\n",
       "    .dataframe tbody tr th:only-of-type {\n",
       "        vertical-align: middle;\n",
       "    }\n",
       "\n",
       "    .dataframe tbody tr th {\n",
       "        vertical-align: top;\n",
       "    }\n",
       "\n",
       "    .dataframe thead th {\n",
       "        text-align: right;\n",
       "    }\n",
       "</style>\n",
       "<table border=\"1\" class=\"dataframe\">\n",
       "  <thead>\n",
       "    <tr style=\"text-align: right;\">\n",
       "      <th></th>\n",
       "      <th>sex</th>\n",
       "      <th>group</th>\n",
       "      <th>edu_cp1</th>\n",
       "      <th>edu_cp2</th>\n",
       "      <th>medi_cp1</th>\n",
       "      <th>medi_cp2</th>\n",
       "      <th>recoverytime</th>\n",
       "      <th>birth_year</th>\n",
       "    </tr>\n",
       "  </thead>\n",
       "  <tbody>\n",
       "    <tr>\n",
       "      <td>sex</td>\n",
       "      <td>1.000000</td>\n",
       "      <td>-0.053020</td>\n",
       "      <td>-1.824427e-02</td>\n",
       "      <td>2.016241e-01</td>\n",
       "      <td>-1.389911e-02</td>\n",
       "      <td>8.706286e-02</td>\n",
       "      <td>-0.014739</td>\n",
       "      <td>-0.099318</td>\n",
       "    </tr>\n",
       "    <tr>\n",
       "      <td>group</td>\n",
       "      <td>-0.053020</td>\n",
       "      <td>1.000000</td>\n",
       "      <td>1.939067e-02</td>\n",
       "      <td>2.233390e-01</td>\n",
       "      <td>1.101484e-02</td>\n",
       "      <td>-5.080293e-03</td>\n",
       "      <td>0.025169</td>\n",
       "      <td>0.128447</td>\n",
       "    </tr>\n",
       "    <tr>\n",
       "      <td>edu_cp1</td>\n",
       "      <td>-0.018244</td>\n",
       "      <td>0.019391</td>\n",
       "      <td>1.000000e+00</td>\n",
       "      <td>6.305777e-16</td>\n",
       "      <td>-6.610104e-01</td>\n",
       "      <td>2.548335e-01</td>\n",
       "      <td>-0.014078</td>\n",
       "      <td>-0.168320</td>\n",
       "    </tr>\n",
       "    <tr>\n",
       "      <td>edu_cp2</td>\n",
       "      <td>0.201624</td>\n",
       "      <td>0.223339</td>\n",
       "      <td>6.305777e-16</td>\n",
       "      <td>1.000000e+00</td>\n",
       "      <td>-4.067706e-02</td>\n",
       "      <td>3.148033e-01</td>\n",
       "      <td>-0.090773</td>\n",
       "      <td>-0.055039</td>\n",
       "    </tr>\n",
       "    <tr>\n",
       "      <td>medi_cp1</td>\n",
       "      <td>-0.013899</td>\n",
       "      <td>0.011015</td>\n",
       "      <td>-6.610104e-01</td>\n",
       "      <td>-4.067706e-02</td>\n",
       "      <td>1.000000e+00</td>\n",
       "      <td>-1.683913e-17</td>\n",
       "      <td>0.111773</td>\n",
       "      <td>0.117677</td>\n",
       "    </tr>\n",
       "    <tr>\n",
       "      <td>medi_cp2</td>\n",
       "      <td>0.087063</td>\n",
       "      <td>-0.005080</td>\n",
       "      <td>2.548335e-01</td>\n",
       "      <td>3.148033e-01</td>\n",
       "      <td>-1.683913e-17</td>\n",
       "      <td>1.000000e+00</td>\n",
       "      <td>-0.064801</td>\n",
       "      <td>-0.051687</td>\n",
       "    </tr>\n",
       "    <tr>\n",
       "      <td>recoverytime</td>\n",
       "      <td>-0.014739</td>\n",
       "      <td>0.025169</td>\n",
       "      <td>-1.407795e-02</td>\n",
       "      <td>-9.077346e-02</td>\n",
       "      <td>1.117730e-01</td>\n",
       "      <td>-6.480123e-02</td>\n",
       "      <td>1.000000</td>\n",
       "      <td>0.072318</td>\n",
       "    </tr>\n",
       "    <tr>\n",
       "      <td>birth_year</td>\n",
       "      <td>-0.099318</td>\n",
       "      <td>0.128447</td>\n",
       "      <td>-1.683202e-01</td>\n",
       "      <td>-5.503886e-02</td>\n",
       "      <td>1.176773e-01</td>\n",
       "      <td>-5.168699e-02</td>\n",
       "      <td>0.072318</td>\n",
       "      <td>1.000000</td>\n",
       "    </tr>\n",
       "  </tbody>\n",
       "</table>\n",
       "</div>"
      ],
      "text/plain": [
       "                   sex     group       edu_cp1       edu_cp2      medi_cp1  \\\n",
       "sex           1.000000 -0.053020 -1.824427e-02  2.016241e-01 -1.389911e-02   \n",
       "group        -0.053020  1.000000  1.939067e-02  2.233390e-01  1.101484e-02   \n",
       "edu_cp1      -0.018244  0.019391  1.000000e+00  6.305777e-16 -6.610104e-01   \n",
       "edu_cp2       0.201624  0.223339  6.305777e-16  1.000000e+00 -4.067706e-02   \n",
       "medi_cp1     -0.013899  0.011015 -6.610104e-01 -4.067706e-02  1.000000e+00   \n",
       "medi_cp2      0.087063 -0.005080  2.548335e-01  3.148033e-01 -1.683913e-17   \n",
       "recoverytime -0.014739  0.025169 -1.407795e-02 -9.077346e-02  1.117730e-01   \n",
       "birth_year   -0.099318  0.128447 -1.683202e-01 -5.503886e-02  1.176773e-01   \n",
       "\n",
       "                  medi_cp2  recoverytime  birth_year  \n",
       "sex           8.706286e-02     -0.014739   -0.099318  \n",
       "group        -5.080293e-03      0.025169    0.128447  \n",
       "edu_cp1       2.548335e-01     -0.014078   -0.168320  \n",
       "edu_cp2       3.148033e-01     -0.090773   -0.055039  \n",
       "medi_cp1     -1.683913e-17      0.111773    0.117677  \n",
       "medi_cp2      1.000000e+00     -0.064801   -0.051687  \n",
       "recoverytime -6.480123e-02      1.000000    0.072318  \n",
       "birth_year   -5.168699e-02      0.072318    1.000000  "
      ]
     },
     "execution_count": 271,
     "metadata": {},
     "output_type": "execute_result"
    }
   ],
   "source": [
    "ddd=pd.concat([x_train_new[[\"sex\",\"group\",\"edu_cp1\",\"edu_cp2\",\"medi_cp1\",\"medi_cp2\"]],y_train,age2],axis=1)\n",
    "ddd.corr()"
   ]
  }
 ],
 "metadata": {
  "kernelspec": {
   "display_name": "Python 3",
   "language": "python",
   "name": "python3"
  },
  "language_info": {
   "codemirror_mode": {
    "name": "ipython",
    "version": 3
   },
   "file_extension": ".py",
   "mimetype": "text/x-python",
   "name": "python",
   "nbconvert_exporter": "python",
   "pygments_lexer": "ipython3",
   "version": "3.7.7"
  }
 },
 "nbformat": 4,
 "nbformat_minor": 1
}
