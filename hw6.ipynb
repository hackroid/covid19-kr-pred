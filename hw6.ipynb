{
 "cells": [
  {
   "cell_type": "code",
   "execution_count": 1,
   "metadata": {},
   "outputs": [
    {
     "name": "stdout",
     "output_type": "stream",
     "text": [
      "[[ 1  1  1  0  0]\n",
      " [-3 -3 -3  0  0]\n",
      " [ 2  2  2  0  0]\n",
      " [ 0  0  0 -1 -1]\n",
      " [ 0  0  0  2  2]\n",
      " [ 0  0  0 -1 -1]]\n",
      "[[ 1 -3  2  0  0  0]\n",
      " [ 1 -3  2  0  0  0]\n",
      " [ 1 -3  2  0  0  0]\n",
      " [ 0  0  0 -1  2 -1]\n",
      " [ 0  0  0 -1  2 -1]]\n"
     ]
    }
   ],
   "source": [
    "import numpy as np\n",
    "from numpy import linalg as LA\n",
    "als = [[1,1,1,0,0],[-3,-3,-3,0,0],[2,2,2,0,0],[0,0,0,-1,-1],[0,0,0,2,2],[0,0,0,-1,-1]]\n",
    "a = np.array(als)\n",
    "at = a.transpose()\n",
    "print(a)\n",
    "print(at)"
   ]
  },
  {
   "cell_type": "code",
   "execution_count": 2,
   "metadata": {},
   "outputs": [
    {
     "data": {
      "text/plain": [
       "(array([ 4.20000000e+01,  3.25270202e-15, -5.39911721e-32,  1.20000000e+01,\n",
       "        -1.77635684e-15]),\n",
       " array([[ 5.77350269e-01, -7.14981744e-01, -9.72189245e-17,\n",
       "          0.00000000e+00,  0.00000000e+00],\n",
       "        [ 5.77350269e-01,  6.98959508e-01, -7.07106781e-01,\n",
       "          0.00000000e+00,  0.00000000e+00],\n",
       "        [ 5.77350269e-01,  1.60222362e-02,  7.07106781e-01,\n",
       "          0.00000000e+00,  0.00000000e+00],\n",
       "        [ 0.00000000e+00,  0.00000000e+00,  0.00000000e+00,\n",
       "          7.07106781e-01, -7.07106781e-01],\n",
       "        [ 0.00000000e+00,  0.00000000e+00,  0.00000000e+00,\n",
       "          7.07106781e-01,  7.07106781e-01]]))"
      ]
     },
     "execution_count": 2,
     "metadata": {},
     "output_type": "execute_result"
    }
   ],
   "source": [
    "LA.eig(at.dot(a))"
   ]
  },
  {
   "cell_type": "code",
   "execution_count": 3,
   "metadata": {},
   "outputs": [
    {
     "data": {
      "text/plain": [
       "(array([[-0.26726124,  0.        , -0.94816592,  0.        , -0.17190932,\n",
       "          0.        ],\n",
       "        [ 0.80178373,  0.        , -0.31776533,  0.        ,  0.50613047,\n",
       "          0.        ],\n",
       "        [-0.53452248,  0.        , -0.00256504,  0.        ,  0.84515036,\n",
       "          0.        ],\n",
       "        [ 0.        , -0.40824829,  0.        , -0.91287093,  0.        ,\n",
       "         -0.        ],\n",
       "        [ 0.        ,  0.81649658,  0.        , -0.36514837,  0.        ,\n",
       "          0.4472136 ],\n",
       "        [ 0.        , -0.40824829,  0.        ,  0.18257419,  0.        ,\n",
       "          0.89442719]]),\n",
       " array([6.4807407 , 3.46410162, 0.        , 0.        , 0.        ]),\n",
       " array([[-0.57735027, -0.57735027, -0.57735027,  0.        ,  0.        ],\n",
       "        [ 0.        ,  0.        ,  0.        ,  0.70710678,  0.70710678],\n",
       "        [ 0.81649658, -0.40824829, -0.40824829,  0.        ,  0.        ],\n",
       "        [ 0.        ,  0.        ,  0.        , -0.70710678,  0.70710678],\n",
       "        [ 0.        , -0.70710678,  0.70710678,  0.        ,  0.        ]]))"
      ]
     },
     "execution_count": 3,
     "metadata": {},
     "output_type": "execute_result"
    }
   ],
   "source": [
    "np.set_printoptions(suppress=True)\n",
    "np.linalg.svd(a)"
   ]
  },
  {
   "cell_type": "code",
   "execution_count": 11,
   "metadata": {},
   "outputs": [
    {
     "name": "stdout",
     "output_type": "stream",
     "text": [
      "[[-0.26726124  0.         -0.94816592  0.         -0.17190932  0.        ]\n",
      " [ 0.80178373  0.         -0.31776533  0.          0.50613047  0.        ]\n",
      " [-0.53452248  0.         -0.00256504  0.          0.84515036  0.        ]\n",
      " [ 0.         -0.40824829  0.         -0.91287093  0.         -0.        ]\n",
      " [ 0.          0.81649658  0.         -0.36514837  0.          0.4472136 ]\n",
      " [ 0.         -0.40824829  0.          0.18257419  0.          0.89442719]] \n",
      " [[6.4807407  0.         0.         0.         0.        ]\n",
      " [0.         3.46410162 0.         0.         0.        ]\n",
      " [0.         0.         0.         0.         0.        ]\n",
      " [0.         0.         0.         0.         0.        ]\n",
      " [0.         0.         0.         0.         0.        ]\n",
      " [0.         0.         0.         0.         0.        ]] \n",
      " [[-0.57735027 -0.57735027 -0.57735027  0.          0.        ]\n",
      " [ 0.          0.          0.          0.70710678  0.70710678]\n",
      " [ 0.81649658 -0.40824829 -0.40824829  0.          0.        ]\n",
      " [ 0.          0.          0.         -0.70710678  0.70710678]\n",
      " [ 0.         -0.70710678  0.70710678  0.          0.        ]]\n"
     ]
    }
   ],
   "source": [
    "from scipy.linalg import svd\n",
    "from numpy import zeros\n",
    "from numpy import diag\n",
    "U, s, VT = svd(a)\n",
    "# create m x n Sigma matrix\n",
    "Sigma = zeros((a.shape[0], a.shape[1]))\n",
    "# populate Sigma with n x n diagonal matrix\n",
    "Sigma[:a.shape[1], :a.shape[1]] = diag(s)\n",
    "print(U, \"\\n\", Sigma, \"\\n\", VT)\n",
    "# reconstruct matrix\n",
    "B = U.dot(Sigma.dot(VT))"
   ]
  },
  {
   "cell_type": "code",
   "execution_count": null,
   "metadata": {},
   "outputs": [],
   "source": []
  }
 ],
 "metadata": {
  "kernelspec": {
   "display_name": "Python 3",
   "language": "python",
   "name": "python3"
  },
  "language_info": {
   "codemirror_mode": {
    "name": "ipython",
    "version": 3
   },
   "file_extension": ".py",
   "mimetype": "text/x-python",
   "name": "python",
   "nbconvert_exporter": "python",
   "pygments_lexer": "ipython3",
   "version": "3.7.7"
  }
 },
 "nbformat": 4,
 "nbformat_minor": 4
}
